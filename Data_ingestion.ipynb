{
 "cells": [
  {
   "cell_type": "code",
   "execution_count": 1,
   "metadata": {},
   "outputs": [],
   "source": [
    "import pandas as pd\n",
    "import os\n",
    "from dotenv import load_dotenv\n",
    "import snowflake.connector"
   ]
  },
  {
   "cell_type": "code",
   "execution_count": 16,
   "metadata": {},
   "outputs": [],
   "source": [
    "cleaned = pd.read_csv('./Data/cleaned_data.csv')"
   ]
  },
  {
   "cell_type": "code",
   "execution_count": 24,
   "metadata": {},
   "outputs": [],
   "source": [
    "load_dotenv()\n",
    "\n",
    "user = os.getenv(\"SNOWFLAKE_USER\")\n",
    "password = os.getenv(\"SNOWFLAKE_PASSWORD\")\n",
    "account = os.getenv(\"SNOWFLAKE_ACCOUNT\")\n",
    "warehouse = os.getenv(\"SNOWFLAKE_WAREHOUSE\")\n",
    "role = os.getenv(\"SNOWFLAKE_ROLE\")\n",
    "database = os.getenv(\"SNOWFLAKE_DATABASE\")\n",
    "schema = os.getenv(\"SNOWFLAKE_SCHEMA\")\n",
    "table = os.getenv(\"SNOWFLAKE_TABLE\")"
   ]
  },
  {
   "cell_type": "code",
   "execution_count": 8,
   "metadata": {},
   "outputs": [],
   "source": [
    "conn = snowflake.connector.connect(\n",
    "    user=user,\n",
    "    password=password,\n",
    "    account=account,\n",
    "    role=role\n",
    ")"
   ]
  },
  {
   "cell_type": "code",
   "execution_count": 9,
   "metadata": {},
   "outputs": [],
   "source": [
    "cursor = conn.cursor()"
   ]
  },
  {
   "cell_type": "code",
   "execution_count": 13,
   "metadata": {},
   "outputs": [
    {
     "name": "stdout",
     "output_type": "stream",
     "text": [
      "Warehouse 'LLM_WH' created.\n"
     ]
    }
   ],
   "source": [
    "# Create Warehouse\n",
    "cursor.execute(f\"\"\"\n",
    "    CREATE OR REPLACE WAREHOUSE {warehouse}\n",
    "    WITH WAREHOUSE_SIZE = 'XSMALL'\n",
    "    AUTO_SUSPEND = 300\n",
    "    AUTO_RESUME = TRUE\n",
    "\"\"\")\n",
    "print(f\"Warehouse '{warehouse}' created.\")"
   ]
  },
  {
   "cell_type": "code",
   "execution_count": 14,
   "metadata": {},
   "outputs": [
    {
     "name": "stdout",
     "output_type": "stream",
     "text": [
      "Database 'HOSPITAL_ANALYTICS_DB' created.\n"
     ]
    }
   ],
   "source": [
    "# Create Database\n",
    "cursor.execute(f\"CREATE OR REPLACE DATABASE {database}\")\n",
    "print(f\"Database '{database}' created.\")"
   ]
  },
  {
   "cell_type": "code",
   "execution_count": 15,
   "metadata": {},
   "outputs": [
    {
     "name": "stdout",
     "output_type": "stream",
     "text": [
      "Schema 'CLEANED_DATA' created in database 'HOSPITAL_ANALYTICS_DB'.\n"
     ]
    }
   ],
   "source": [
    "# Create Schema\n",
    "cursor.execute(f\"CREATE OR REPLACE SCHEMA {database}.{schema}\")\n",
    "print(f\"Schema '{schema}' created in database '{database}'.\")"
   ]
  },
  {
   "cell_type": "code",
   "execution_count": 27,
   "metadata": {},
   "outputs": [
    {
     "name": "stdout",
     "output_type": "stream",
     "text": [
      "CREATE TABLE hospital_data (\n",
      "  hospital_service_area VARCHAR(255),\n",
      "  hospital_county VARCHAR(255),\n",
      "  permanent_facility_id FLOAT,\n",
      "  facility_name VARCHAR(255),\n",
      "  age_group VARCHAR(255),\n",
      "  zip_code_3_digits VARCHAR(255),\n",
      "  gender VARCHAR(255),\n",
      "  race VARCHAR(255),\n",
      "  ethnicity VARCHAR(255),\n",
      "  length_of_stay VARCHAR(255),\n",
      "  type_of_admission VARCHAR(255),\n",
      "  patient_disposition VARCHAR(255),\n",
      "  discharge_year INT,\n",
      "  ccsr_diagnosis_description VARCHAR(255),\n",
      "  apr_drg_description VARCHAR(255),\n",
      "  apr_mdc_description VARCHAR(255),\n",
      "  apr_severity_of_illness_description VARCHAR(255),\n",
      "  apr_risk_of_mortality VARCHAR(255),\n",
      "  apr_medical_surgical_description VARCHAR(255),\n",
      "  payment_typology_1 VARCHAR(255),\n",
      "  birth_weight INT,\n",
      "  emergency_department_indicator VARCHAR(255),\n",
      "  total_charges VARCHAR(255),\n",
      "  total_costs VARCHAR(255),\n",
      "  region VARCHAR(255)\n",
      ");\n"
     ]
    }
   ],
   "source": [
    "# Map pandas dtypes to SQL types\n",
    "def map_dtype_to_sql(dtype):\n",
    "    if pd.api.types.is_integer_dtype(dtype):\n",
    "        return 'INT'\n",
    "    elif pd.api.types.is_float_dtype(dtype):\n",
    "        return 'FLOAT'\n",
    "    elif pd.api.types.is_bool_dtype(dtype):\n",
    "        return 'BOOLEAN'\n",
    "    elif pd.api.types.is_datetime64_any_dtype(dtype):\n",
    "        return 'DATETIME'\n",
    "    else:\n",
    "        return 'VARCHAR(255)'\n",
    "\n",
    "# Generate CREATE TABLE SQL query without backticks\n",
    "def generate_create_table_sql(df, table_name):\n",
    "    sql_lines = []\n",
    "    for col in df.columns:\n",
    "        col_clean = col.strip().replace(\" \", \"_\").replace(\"-\", \"_\").replace(\"__\", \"_\").lower()\n",
    "        sql_type = map_dtype_to_sql(df[col].dtype)\n",
    "        sql_lines.append(f\"  {col_clean} {sql_type}\")\n",
    "    sql_body = \",\\n\".join(sql_lines)\n",
    "    return f\"CREATE TABLE {table_name} (\\n{sql_body}\\n);\"\n",
    "\n",
    "# Example usage\n",
    "create_table_query = generate_create_table_sql(cleaned, table)\n",
    "print(create_table_query)"
   ]
  },
  {
   "cell_type": "code",
   "execution_count": 28,
   "metadata": {},
   "outputs": [
    {
     "name": "stdout",
     "output_type": "stream",
     "text": [
      "Table hospital_data created or replaced.\n"
     ]
    }
   ],
   "source": [
    "cursor.execute(create_table_query)\n",
    "print(f\"Table {table} created or replaced.\")"
   ]
  },
  {
   "cell_type": "code",
   "execution_count": 33,
   "metadata": {},
   "outputs": [
    {
     "name": "stdout",
     "output_type": "stream",
     "text": [
      "File uploaded to table stage @hospital_data\n"
     ]
    }
   ],
   "source": [
    "csv_file_path = \"./Data/cleaned_data.csv\"\n",
    "\n",
    "# Upload file to the table stage\n",
    "cursor.execute(f\"PUT file://{csv_file_path} @%{table} AUTO_COMPRESS=TRUE\")\n",
    "print(f\"File uploaded to table stage @{table}\")"
   ]
  },
  {
   "cell_type": "code",
   "execution_count": null,
   "metadata": {},
   "outputs": [
    {
     "name": "stdout",
     "output_type": "stream",
     "text": [
      "Data loaded into 'hospital_data' table.\n"
     ]
    }
   ],
   "source": [
    "table = os.getenv(\"SNOWFLAKE_TABLE\")\n",
    "file_name = os.path.basename(csv_file_path)\n",
    "\n",
    "cursor.execute(f\"\"\"\n",
    "COPY INTO {table}\n",
    "FROM @%{table}/{file_name}.gz\n",
    "FILE_FORMAT = (\n",
    "  TYPE = 'CSV'\n",
    "  SKIP_HEADER = 1\n",
    "  FIELD_OPTIONALLY_ENCLOSED_BY = '\"'\n",
    ")\n",
    "ON_ERROR = 'ABORT_STATEMENT';\n",
    "\"\"\")\n",
    "print(f\"Data loaded into '{table}' table.\")"
   ]
  },
  {
   "cell_type": "code",
   "execution_count": 36,
   "metadata": {},
   "outputs": [],
   "source": [
    "cursor.close()\n",
    "conn.close()"
   ]
  }
 ],
 "metadata": {
  "kernelspec": {
   "display_name": "venv",
   "language": "python",
   "name": "python3"
  },
  "language_info": {
   "codemirror_mode": {
    "name": "ipython",
    "version": 3
   },
   "file_extension": ".py",
   "mimetype": "text/x-python",
   "name": "python",
   "nbconvert_exporter": "python",
   "pygments_lexer": "ipython3",
   "version": "3.11.4"
  }
 },
 "nbformat": 4,
 "nbformat_minor": 2
}
